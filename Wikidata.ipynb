{
 "cells": [
  {
   "cell_type": "code",
   "execution_count": null,
   "metadata": {},
   "outputs": [],
   "source": [
    "import requests\n",
    "import matplotlib.pyplot as plt\n",
    "from urllib.parse import quote"
   ]
  },
  {
   "cell_type": "code",
   "execution_count": null,
   "metadata": {},
   "outputs": [],
   "source": [
    "journal_types = (\n",
    "    ('Medical journal', 'Q16024164'),\n",
    "    ('Academic journal', 'Q737498'),\n",
    "    ('Open access journal', 'Q773668'),\n",
    "    ('Scientific journal', 'Q5633421')\n",
    ")"
   ]
  },
  {
   "cell_type": "code",
   "execution_count": null,
   "metadata": {},
   "outputs": [],
   "source": [
    "wikidata_endpoint = 'https://query.wikidata.org/sparql'"
   ]
  },
  {
   "cell_type": "code",
   "execution_count": null,
   "metadata": {},
   "outputs": [],
   "source": [
    "def do_query(query):\n",
    "    url = '%s?query=%s' % (wikidata_endpoint, quote(query))\n",
    "    return requests.get(url, headers={'Accept': 'application/sparql-results+json'}).json()"
   ]
  },
  {
   "cell_type": "code",
   "execution_count": 71,
   "metadata": {},
   "outputs": [],
   "source": [
    "def journals_by_category():\n",
    "    print('\\nJournals by category:')\n",
    "    labels = []\n",
    "    counts = []\n",
    "    for cat, qid in journal_types:\n",
    "        labels.append(cat)\n",
    "        query = '''\n",
    "            SELECT (COUNT(?journal) AS ?count) WHERE {\n",
    "              ?journal wdt:P31 wd:%s . # %s\n",
    "            }\n",
    "        ''' % (qid, cat)\n",
    "        count = int(do_query(query)['results']['bindings'][0]['count']['value'])\n",
    "        counts.append(count)\n",
    "        print('  %s %s' % (cat, count))\n",
    "    plt.pie(counts, labels=labels)\n",
    "    plt.axis('equal')\n",
    "    plt.show()\n",
    "\n",
    "    plt.barh(labels, counts, align='center', alpha=0.5)\n",
    "    plt.title('Journals by category')\n",
    "    plt.show()\n"
   ]
  },
  {
   "cell_type": "code",
   "execution_count": 72,
   "metadata": {},
   "outputs": [],
   "source": [
    "def articles_by_category():\n",
    "    print('\\Scholarly articles by category:')\n",
    "    labels = []\n",
    "    counts = []\n",
    "    for cat, qid in journal_types:\n",
    "        labels.append(cat)\n",
    "        query = '''\n",
    "            SELECT (COUNT(?item) AS ?count) WHERE {\n",
    "              ?journal wdt:P31 wd:%s . # %s\n",
    "              ?item wdt:P31 wd:Q13442814 ;\n",
    "                    wdt:P1433 ?journal .\n",
    "            }\n",
    "        ''' % (qid, cat)\n",
    "        count = int(do_query(query)['results']['bindings'][0]['count']['value'])\n",
    "        counts.append(count)\n",
    "        print('  %s %s' % (cat, count))\n",
    "    plt.pie(counts, labels=labels)\n",
    "    plt.axis('equal')\n",
    "    plt.show()\n",
    "\n",
    "    plt.barh(labels, counts, align='center', alpha=0.5)\n",
    "    plt.title('Scholarly articles by category')\n",
    "    plt.show()\n"
   ]
  },
  {
   "cell_type": "code",
   "execution_count": 73,
   "metadata": {},
   "outputs": [
    {
     "name": "stdout",
     "output_type": "stream",
     "text": [
      "\n",
      "Journals by category:\n",
      "  Medical journal 138\n",
      "  Academic journal 11894\n",
      "  Open access journal 587\n",
      "  Scientific journal 45304\n"
     ]
    },
    {
     "data": {
      "image/png": "[encoded data removed]",
      "text/plain": [
       "<Figure size 432x288 with 1 Axes>"
      ]
     },
     "metadata": {},
     "output_type": "display_data"
    },
    {
     "data": {
      "image/png": "[encoded data removed]",
      "text/plain": [
       "<Figure size 432x288 with 1 Axes>"
      ]
     },
     "metadata": {
      "needs_background": "light"
     },
     "output_type": "display_data"
    }
   ],
   "source": [
    "journals_by_category()"
   ]
  },
  {
   "cell_type": "code",
   "execution_count": null,
   "metadata": {},
   "outputs": [],
   "source": []
  }
 ],
 "metadata": {
  "kernelspec": {
   "display_name": "Python 3",
   "language": "python",
   "name": "python3"
  },
  "language_info": {
   "codemirror_mode": {
    "name": "ipython",
    "version": 3
   },
   "file_extension": ".py",
   "mimetype": "text/x-python",
   "name": "python",
   "nbconvert_exporter": "python",
   "pygments_lexer": "ipython3",
   "version": "3.7.3"
  }
 },
 "nbformat": 4,
 "nbformat_minor": 2
}
